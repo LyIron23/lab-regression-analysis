{
 "cells": [
  {
   "cell_type": "markdown",
   "metadata": {},
   "source": [
    "# Lab: Regression Analysis"
   ]
  },
  {
   "cell_type": "markdown",
   "metadata": {},
   "source": [
    "### Before you start:\n",
    "\n",
    "* Read the README.md file\n",
    "* Comment as much as you can and use the resources (README.md file) \n",
    "\n",
    "Happy learning!"
   ]
  },
  {
   "cell_type": "markdown",
   "metadata": {},
   "source": [
    "## Challenge 1\n",
    "I work at a coding bootcamp, and I have developed a theory that the younger my students are, the more often they are late to class. In order to test my hypothesis, I have collected some data in the following table:\n",
    "\n",
    "| StudentID | Age | Tardies |\n",
    "|--------|-----|------------|\n",
    "| 1      | 17  | 10         |\n",
    "| 2      | 51  | 1          |\n",
    "| 3      | 27  | 5          |\n",
    "| 4      | 21  | 9         |\n",
    "| 5      | 36  |  4         |\n",
    "| 6      | 48  |  2         |\n",
    "| 7      | 19  |  9         |\n",
    "| 8      | 26  | 6          |\n",
    "| 9      | 54  |  0         |\n",
    "| 10     | 30  |  3         |"
   ]
  },
  {
   "cell_type": "markdown",
   "metadata": {},
   "source": [
    "Use this command to create a dataframe with the data provided in the table. \n",
    "~~~~\n",
    "student_data = pd.DataFrame({'X': [x_values], 'Y': [y_values]})\n",
    "~~~~"
   ]
  },
  {
   "cell_type": "code",
   "execution_count": 1,
   "metadata": {},
   "outputs": [],
   "source": [
    "# Your code here.\n",
    "import pandas as pd\n",
    "\n",
    "data = {'StudentID': [1, 2, 3, 4, 5, 6, 7, 8, 9, 10],'Age': [17, 51, 27, 21, 36, 48, 19, 26, 54, 30],'Tardies': [10, 1, 5, 9, 4, 2, 9, 6, 0, 3]}\n",
    "\n",
    "student_data = pd.DataFrame(data)\n"
   ]
  },
  {
   "cell_type": "markdown",
   "metadata": {},
   "source": [
    "Draw a dispersion diagram (scatter plot) for the data."
   ]
  },
  {
   "cell_type": "code",
   "execution_count": 3,
   "metadata": {},
   "outputs": [
    {
     "data": {
      "image/png": "[encoded data removed]",
      "text/plain": [
       "<Figure size 640x480 with 1 Axes>"
      ]
     },
     "metadata": {},
     "output_type": "display_data"
    }
   ],
   "source": [
    "# Your code here.\n",
    "import matplotlib.pyplot as plt\n",
    "\n",
    "age = student_data['Age']\n",
    "tardies = student_data['Tardies']\n",
    "\n",
    "# scatter plot\n",
    "plt.figure()\n",
    "plt.scatter(age, tardies)\n",
    "plt.title('Scatter Plot of Age vs. Tardies')\n",
    "plt.xlabel('Age')\n",
    "plt.ylabel('Tardies')\n",
    "plt.grid(True)\n",
    "\n",
    "plt.show()"
   ]
  },
  {
   "cell_type": "markdown",
   "metadata": {},
   "source": [
    "Do you see a trend? Can you make any hypotheses about the relationship between age and number of tardies?"
   ]
  },
  {
   "cell_type": "code",
   "execution_count": null,
   "metadata": {},
   "outputs": [],
   "source": [
    "# Your response here. \n",
    "- As the age of students increases, the number of tardies decreases\n",
    "- It seems that the younger students tend to be late more often compared to older students\n"
   ]
  },
  {
   "cell_type": "markdown",
   "metadata": {},
   "source": [
    "Calculate the covariance and correlation of the variables in your plot. What is the difference between these two measures? Compare their values. What do they tell you in this case? Add your responses as comments after your code."
   ]
  },
  {
   "cell_type": "code",
   "execution_count": 4,
   "metadata": {},
   "outputs": [
    {
     "name": "stdout",
     "output_type": "stream",
     "text": [
      "              Age   Tardies\n",
      "Age      1.000000 -0.939163\n",
      "Tardies -0.939163  1.000000\n",
      "                Age    Tardies\n",
      "Age      187.655556 -45.566667\n",
      "Tardies  -45.566667  12.544444\n"
     ]
    }
   ],
   "source": [
    "# Your response here.\n",
    "# correlation:\n",
    "correlation_matrix = student_data[['Age', 'Tardies']].corr()\n",
    "\n",
    "# covariance \n",
    "covariance_matrix = student_data[['Age', 'Tardies']].cov()\n",
    "\n",
    "print(correlation_matrix)\n",
    "print(covariance_matrix)"
   ]
  },
  {
   "cell_type": "markdown",
   "metadata": {},
   "source": [
    "# The correlation between Age and Tardies is negative, which mean negative linear relationship. This means that as students' age increases, the number of tardies tends to decrease.\n",
    "# The covariance is also negative, supporting the negative relationship"
   ]
  },
  {
   "cell_type": "markdown",
   "metadata": {},
   "source": [
    "Build a regression model for this data. What will be your outcome variable? What type of regression are you using? Add your responses as comments after your code."
   ]
  },
  {
   "cell_type": "code",
   "execution_count": 5,
   "metadata": {},
   "outputs": [
    {
     "ename": "ModuleNotFoundError",
     "evalue": "No module named 'sklearn'",
     "output_type": "error",
     "traceback": [
      "\u001b[1;31m---------------------------------------------------------------------------\u001b[0m",
      "\u001b[1;31mModuleNotFoundError\u001b[0m                       Traceback (most recent call last)",
      "\u001b[1;32mc:\\Users\\minhl\\Desktop\\New folder\\lab-regression-analysis\\your-code\\challenge1.ipynb Cell 14\u001b[0m line \u001b[0;36m2\n\u001b[0;32m      <a href='vscode-notebook-cell:/c%3A/Users/minhl/Desktop/New%20folder/lab-regression-analysis/your-code/challenge1.ipynb#X15sZmlsZQ%3D%3D?line=0'>1</a>\u001b[0m \u001b[39m# Your response here.\u001b[39;00m\n\u001b[1;32m----> <a href='vscode-notebook-cell:/c%3A/Users/minhl/Desktop/New%20folder/lab-regression-analysis/your-code/challenge1.ipynb#X15sZmlsZQ%3D%3D?line=1'>2</a>\u001b[0m \u001b[39mfrom\u001b[39;00m \u001b[39msklearn\u001b[39;00m\u001b[39m.\u001b[39;00m\u001b[39mlinear_model\u001b[39;00m \u001b[39mimport\u001b[39;00m LinearRegression\n\u001b[0;32m      <a href='vscode-notebook-cell:/c%3A/Users/minhl/Desktop/New%20folder/lab-regression-analysis/your-code/challenge1.ipynb#X15sZmlsZQ%3D%3D?line=3'>4</a>\u001b[0m X \u001b[39m=\u001b[39m student_data[[\u001b[39m'\u001b[39m\u001b[39mAge\u001b[39m\u001b[39m'\u001b[39m]]  \n\u001b[0;32m      <a href='vscode-notebook-cell:/c%3A/Users/minhl/Desktop/New%20folder/lab-regression-analysis/your-code/challenge1.ipynb#X15sZmlsZQ%3D%3D?line=4'>5</a>\u001b[0m y \u001b[39m=\u001b[39m student_data[\u001b[39m'\u001b[39m\u001b[39mTardies\u001b[39m\u001b[39m'\u001b[39m] \n",
      "\u001b[1;31mModuleNotFoundError\u001b[0m: No module named 'sklearn'"
     ]
    }
   ],
   "source": [
    "# Your response here.\n",
    "# I am using linear regression because I am exploring the linear relationship between 'Age' and 'Tardies'.\n",
    "\n",
    "from sklearn.linear_model import LinearRegression\n",
    "\n",
    "X = student_data[['Age']]  \n",
    "y = student_data['Tardies'] \n",
    "\n",
    "model = LinearRegression()\n",
    "\n",
    "# Fitting the model to the data\n",
    "model.fit(X, y)\n",
    "\n",
    "# My predictions\n",
    "predictions = model.predict(X)\n",
    "\n",
    "print(\"Intercept:\", model.intercept_)\n",
    "print(\"Coefficient for Age:\", model.coef_[0])"
   ]
  },
  {
   "cell_type": "code",
   "execution_count": 6,
   "metadata": {},
   "outputs": [
    {
     "name": "stdout",
     "output_type": "stream",
     "text": [
      "Collecting scikit-learn\n",
      "  Downloading scikit_learn-1.3.0-cp311-cp311-win_amd64.whl (9.2 MB)\n",
      "                                              0.0/9.2 MB ? eta -:--:--\n",
      "     -                                        0.3/9.2 MB 5.7 MB/s eta 0:00:02\n",
      "     --                                       0.6/9.2 MB 5.8 MB/s eta 0:00:02\n",
      "     -----                                    1.3/9.2 MB 8.9 MB/s eta 0:00:01\n",
      "     --------                                 1.9/9.2 MB 10.0 MB/s eta 0:00:01\n",
      "     ----------                               2.5/9.2 MB 10.5 MB/s eta 0:00:01\n",
      "     -------------                            3.1/9.2 MB 11.2 MB/s eta 0:00:01\n",
      "     ----------------                         3.7/9.2 MB 11.4 MB/s eta 0:00:01\n",
      "     ------------------                       4.3/9.2 MB 11.5 MB/s eta 0:00:01\n",
      "     --------------------                     4.7/9.2 MB 11.1 MB/s eta 0:00:01\n",
      "     -----------------------                  5.3/9.2 MB 11.4 MB/s eta 0:00:01\n",
      "     -------------------------                5.9/9.2 MB 11.4 MB/s eta 0:00:01\n",
      "     ----------------------------             6.6/9.2 MB 11.7 MB/s eta 0:00:01\n",
      "     -------------------------------          7.2/9.2 MB 11.8 MB/s eta 0:00:01\n",
      "     ---------------------------------        7.8/9.2 MB 11.8 MB/s eta 0:00:01\n",
      "     ------------------------------------     8.3/9.2 MB 11.9 MB/s eta 0:00:01\n",
      "     ------------------------------------     8.5/9.2 MB 11.8 MB/s eta 0:00:01\n",
      "     ---------------------------------------  9.2/9.2 MB 11.5 MB/s eta 0:00:01\n",
      "     ---------------------------------------  9.2/9.2 MB 11.5 MB/s eta 0:00:01\n",
      "     ---------------------------------------- 9.2/9.2 MB 10.3 MB/s eta 0:00:00\n",
      "Requirement already satisfied: numpy>=1.17.3 in c:\\users\\minhl\\appdata\\local\\packages\\pythonsoftwarefoundation.python.3.11_qbz5n2kfra8p0\\localcache\\local-packages\\python311\\site-packages (from scikit-learn) (1.25.2)\n",
      "Collecting scipy>=1.5.0 (from scikit-learn)\n",
      "  Downloading scipy-1.11.2-cp311-cp311-win_amd64.whl (44.0 MB)\n",
      "                                              0.0/44.0 MB ? eta -:--:--\n",
      "                                              0.6/44.0 MB 11.8 MB/s eta 0:00:04\n",
      "                                              1.0/44.0 MB 12.9 MB/s eta 0:00:04\n",
      "     -                                        1.6/44.0 MB 11.6 MB/s eta 0:00:04\n",
      "     --                                       2.3/44.0 MB 12.4 MB/s eta 0:00:04\n",
      "     --                                       3.0/44.0 MB 12.6 MB/s eta 0:00:04\n",
      "     ---                                      3.7/44.0 MB 13.1 MB/s eta 0:00:04\n",
      "     ---                                      4.3/44.0 MB 13.0 MB/s eta 0:00:04\n",
      "     ----                                     4.9/44.0 MB 13.0 MB/s eta 0:00:04\n",
      "     ----                                     5.4/44.0 MB 12.7 MB/s eta 0:00:04\n",
      "     -----                                    6.1/44.0 MB 13.4 MB/s eta 0:00:03\n",
      "     ------                                   6.7/44.0 MB 12.9 MB/s eta 0:00:03\n",
      "     ------                                   7.1/44.0 MB 13.0 MB/s eta 0:00:03\n",
      "     -------                                  7.8/44.0 MB 12.7 MB/s eta 0:00:03\n",
      "     -------                                  8.4/44.0 MB 12.8 MB/s eta 0:00:03\n",
      "     -------                                  8.8/44.0 MB 12.5 MB/s eta 0:00:03\n",
      "     --------                                 9.5/44.0 MB 12.6 MB/s eta 0:00:03\n",
      "     --------                                10.1/44.0 MB 12.6 MB/s eta 0:00:03\n",
      "     ---------                               10.5/44.0 MB 12.6 MB/s eta 0:00:03\n",
      "     ---------                               11.1/44.0 MB 12.6 MB/s eta 0:00:03\n",
      "     ----------                              11.6/44.0 MB 12.6 MB/s eta 0:00:03\n",
      "     -----------                             12.5/44.0 MB 12.6 MB/s eta 0:00:03\n",
      "     -----------                             13.2/44.0 MB 12.6 MB/s eta 0:00:03\n",
      "     ------------                            13.7/44.0 MB 12.1 MB/s eta 0:00:03\n",
      "     ------------                            14.1/44.0 MB 11.9 MB/s eta 0:00:03\n",
      "     -------------                           14.7/44.0 MB 12.1 MB/s eta 0:00:03\n",
      "     -------------                           15.3/44.0 MB 12.1 MB/s eta 0:00:03\n",
      "     -------------                           15.7/44.0 MB 11.9 MB/s eta 0:00:03\n",
      "     --------------                          16.3/44.0 MB 11.7 MB/s eta 0:00:03\n",
      "     --------------                          16.8/44.0 MB 11.9 MB/s eta 0:00:03\n",
      "     ---------------                         17.3/44.0 MB 11.5 MB/s eta 0:00:03\n",
      "     ---------------                         17.9/44.0 MB 11.7 MB/s eta 0:00:03\n",
      "     ----------------                        18.3/44.0 MB 11.5 MB/s eta 0:00:03\n",
      "     ----------------                        18.9/44.0 MB 11.5 MB/s eta 0:00:03\n",
      "     -----------------                       19.7/44.0 MB 11.5 MB/s eta 0:00:03\n",
      "     -----------------                       20.2/44.0 MB 11.5 MB/s eta 0:00:03\n",
      "     ------------------                      20.8/44.0 MB 11.5 MB/s eta 0:00:03\n",
      "     -------------------                     21.5/44.0 MB 11.7 MB/s eta 0:00:02\n",
      "     -------------------                     22.1/44.0 MB 11.7 MB/s eta 0:00:02\n",
      "     --------------------                    22.8/44.0 MB 11.7 MB/s eta 0:00:02\n",
      "     --------------------                    23.4/44.0 MB 11.7 MB/s eta 0:00:02\n",
      "     ---------------------                   24.0/44.0 MB 12.1 MB/s eta 0:00:02\n",
      "     ---------------------                   24.3/44.0 MB 11.7 MB/s eta 0:00:02\n",
      "     ----------------------                  24.9/44.0 MB 11.7 MB/s eta 0:00:02\n",
      "     ----------------------                  25.6/44.0 MB 11.7 MB/s eta 0:00:02\n",
      "     -----------------------                 26.2/44.0 MB 11.9 MB/s eta 0:00:02\n",
      "     -----------------------                 26.8/44.0 MB 11.9 MB/s eta 0:00:02\n",
      "     ------------------------                27.4/44.0 MB 12.4 MB/s eta 0:00:02\n",
      "     ------------------------                27.8/44.0 MB 11.9 MB/s eta 0:00:02\n",
      "     -------------------------               28.3/44.0 MB 12.1 MB/s eta 0:00:02\n",
      "     -------------------------               29.1/44.0 MB 12.4 MB/s eta 0:00:02\n",
      "     --------------------------              29.4/44.0 MB 12.1 MB/s eta 0:00:02\n",
      "     --------------------------              30.1/44.0 MB 12.4 MB/s eta 0:00:02\n",
      "     ---------------------------             30.7/44.0 MB 11.9 MB/s eta 0:00:02\n",
      "     ---------------------------             31.5/44.0 MB 12.1 MB/s eta 0:00:02\n",
      "     ----------------------------            31.8/44.0 MB 11.9 MB/s eta 0:00:02\n",
      "     ----------------------------            32.5/44.0 MB 11.9 MB/s eta 0:00:01\n",
      "     -----------------------------           33.1/44.0 MB 11.9 MB/s eta 0:00:01\n",
      "     ------------------------------          33.9/44.0 MB 11.9 MB/s eta 0:00:01\n",
      "     ------------------------------          34.2/44.0 MB 11.5 MB/s eta 0:00:01\n",
      "     ------------------------------          34.9/44.0 MB 11.7 MB/s eta 0:00:01\n",
      "     -------------------------------         35.3/44.0 MB 11.7 MB/s eta 0:00:01\n",
      "     -------------------------------         35.9/44.0 MB 11.5 MB/s eta 0:00:01\n",
      "     --------------------------------        36.3/44.0 MB 11.7 MB/s eta 0:00:01\n",
      "     --------------------------------        36.9/44.0 MB 11.3 MB/s eta 0:00:01\n",
      "     ---------------------------------       37.5/44.0 MB 11.3 MB/s eta 0:00:01\n",
      "     ---------------------------------       38.0/44.0 MB 11.5 MB/s eta 0:00:01\n",
      "     ----------------------------------      38.4/44.0 MB 11.3 MB/s eta 0:00:01\n",
      "     ----------------------------------      39.1/44.0 MB 11.1 MB/s eta 0:00:01\n",
      "     -----------------------------------     39.7/44.0 MB 11.5 MB/s eta 0:00:01\n",
      "     -----------------------------------     39.9/44.0 MB 11.1 MB/s eta 0:00:01\n",
      "     ------------------------------------    40.8/44.0 MB 11.3 MB/s eta 0:00:01\n",
      "     ------------------------------------    41.5/44.0 MB 11.5 MB/s eta 0:00:01\n",
      "     -------------------------------------   41.9/44.0 MB 11.1 MB/s eta 0:00:01\n",
      "     -------------------------------------   42.4/44.0 MB 11.1 MB/s eta 0:00:01\n",
      "     --------------------------------------  43.4/44.0 MB 11.3 MB/s eta 0:00:01\n",
      "     --------------------------------------  43.7/44.0 MB 11.1 MB/s eta 0:00:01\n",
      "     --------------------------------------  44.0/44.0 MB 11.1 MB/s eta 0:00:01\n",
      "     --------------------------------------  44.0/44.0 MB 11.1 MB/s eta 0:00:01\n",
      "     --------------------------------------  44.0/44.0 MB 11.1 MB/s eta 0:00:01\n",
      "     --------------------------------------  44.0/44.0 MB 11.1 MB/s eta 0:00:01\n",
      "     --------------------------------------  44.0/44.0 MB 11.1 MB/s eta 0:00:01\n",
      "     --------------------------------------  44.0/44.0 MB 11.1 MB/s eta 0:00:01\n",
      "     ---------------------------------------- 44.0/44.0 MB 7.8 MB/s eta 0:00:00\n",
      "Collecting joblib>=1.1.1 (from scikit-learn)\n",
      "  Downloading joblib-1.3.2-py3-none-any.whl (302 kB)\n",
      "                                              0.0/302.2 kB ? eta -:--:--\n",
      "     -------------------------------------- 302.2/302.2 kB 9.4 MB/s eta 0:00:00\n",
      "Collecting threadpoolctl>=2.0.0 (from scikit-learn)\n",
      "  Downloading threadpoolctl-3.2.0-py3-none-any.whl (15 kB)\n",
      "Installing collected packages: threadpoolctl, scipy, joblib, scikit-learn\n",
      "Successfully installed joblib-1.3.2 scikit-learn-1.3.0 scipy-1.11.2 threadpoolctl-3.2.0\n",
      "Note: you may need to restart the kernel to use updated packages.\n"
     ]
    },
    {
     "name": "stderr",
     "output_type": "stream",
     "text": [
      "\n",
      "[notice] A new release of pip is available: 23.1.2 -> 23.2.1\n",
      "[notice] To update, run: C:\\Users\\minhl\\AppData\\Local\\Microsoft\\WindowsApps\\PythonSoftwareFoundation.Python.3.11_qbz5n2kfra8p0\\python.exe -m pip install --upgrade pip\n"
     ]
    }
   ],
   "source": [
    "pip install scikit-learn"
   ]
  },
  {
   "cell_type": "code",
   "execution_count": 9,
   "metadata": {},
   "outputs": [
    {
     "name": "stdout",
     "output_type": "stream",
     "text": [
      "Intercept: 12.888803363135771\n",
      "Coefficient for Age: -0.2428207709159809\n"
     ]
    }
   ],
   "source": [
    "from sklearn.linear_model import LinearRegression\n",
    "\n",
    "X = student_data[['Age']]  \n",
    "y = student_data['Tardies'] \n",
    "\n",
    "model = LinearRegression()\n",
    "\n",
    "# Fitting the model to the data\n",
    "model.fit(X, y)\n",
    "\n",
    "# My predictions\n",
    "predictions = model.predict(X)\n",
    "\n",
    "print(\"Intercept:\", model.intercept_)\n",
    "print(\"Coefficient for Age:\", model.coef_[0])"
   ]
  },
  {
   "cell_type": "markdown",
   "metadata": {},
   "source": [
    "Plot your regression model on your scatter plot."
   ]
  },
  {
   "cell_type": "code",
   "execution_count": null,
   "metadata": {},
   "outputs": [],
   "source": [
    "# Your code here.\n",
    "\n",
    "plt.figure()\n",
    "plt.scatter(X, y, label='Data')\n",
    "plt.plot(X, predictions, label='Regression Line')\n",
    "plt.title('Linear Regression: Age vs. Tardies')\n",
    "plt.xlabel('Age')\n",
    "plt.ylabel('Tardies')\n",
    "plt.legend()\n",
    "plt.grid(True)\n",
    "plt.show()"
   ]
  },
  {
   "cell_type": "markdown",
   "metadata": {},
   "source": [
    "Interpret the results of your model. What can conclusions can you draw from your model and how confident in these conclusions are you? Can we say that age is a good predictor of tardiness? Add your responses as comments after your code."
   ]
  },
  {
   "cell_type": "code",
   "execution_count": null,
   "metadata": {},
   "outputs": [],
   "source": [
    "# Your response here. \n",
    "# The coefficient -0.2428.. means that as one-year increase in age is associated with a decrease of approximately 0.2428 tardies.\n",
    "# The intercept of 12.888.. means that when the 'Age' of a student is zero, the model predicts that they would have approximately 12.89 tardies. which doesnt make sense in this case\n"
   ]
  },
  {
   "cell_type": "markdown",
   "metadata": {},
   "source": [
    "## Challenge 2\n",
    "For the second part of this lab, we will use the vehicles.csv data set. You can find a copy of the dataset in the git hub folder. This dataset includes variables related to vehicle characteristics, including the model, make, and energy efficiency standards, as well as each car's CO2 emissions. As discussed in class the goal of this exercise is to predict vehicles' CO2 emissions based on several independent variables. "
   ]
  },
  {
   "cell_type": "code",
   "execution_count": 1,
   "metadata": {},
   "outputs": [],
   "source": [
    "# Import any libraries you may need & the data\n",
    "import pandas as pd\n",
    "import numpy as np\n",
    "import matplotlib.pyplot as plt\n",
    "import seaborn as sns"
   ]
  },
  {
   "cell_type": "markdown",
   "metadata": {},
   "source": [
    "Let's use the following variables for our analysis: Year, Cylinders, Fuel Barrels/Year, Combined MPG, and Fuel Cost/Year. We will use 'CO2 Emission Grams/Mile' as our outcome variable. \n",
    "\n",
    "Calculate the correlations between each of these variables and the outcome. Which variable do you think will be the most important in determining CO2 emissions? Which provides the least amount of helpful information for determining CO2 emissions? Add your responses as comments after your code."
   ]
  },
  {
   "cell_type": "code",
   "execution_count": 2,
   "metadata": {},
   "outputs": [],
   "source": [
    "# Your response here. \n",
    "data = pd.read_csv('vehicles.csv')"
   ]
  },
  {
   "cell_type": "code",
   "execution_count": 3,
   "metadata": {},
   "outputs": [
    {
     "data": {
      "text/html": [
       "<div>\n",
       "<style scoped>\n",
       "    .dataframe tbody tr th:only-of-type {\n",
       "        vertical-align: middle;\n",
       "    }\n",
       "\n",
       "    .dataframe tbody tr th {\n",
       "        vertical-align: top;\n",
       "    }\n",
       "\n",
       "    .dataframe thead th {\n",
       "        text-align: right;\n",
       "    }\n",
       "</style>\n",
       "<table border=\"1\" class=\"dataframe\">\n",
       "  <thead>\n",
       "    <tr style=\"text-align: right;\">\n",
       "      <th></th>\n",
       "      <th>Make</th>\n",
       "      <th>Model</th>\n",
       "      <th>Year</th>\n",
       "      <th>Engine Displacement</th>\n",
       "      <th>Cylinders</th>\n",
       "      <th>Transmission</th>\n",
       "      <th>Drivetrain</th>\n",
       "      <th>Vehicle Class</th>\n",
       "      <th>Fuel Type</th>\n",
       "      <th>Fuel Barrels/Year</th>\n",
       "      <th>City MPG</th>\n",
       "      <th>Highway MPG</th>\n",
       "      <th>Combined MPG</th>\n",
       "      <th>CO2 Emission Grams/Mile</th>\n",
       "      <th>Fuel Cost/Year</th>\n",
       "    </tr>\n",
       "  </thead>\n",
       "  <tbody>\n",
       "    <tr>\n",
       "      <th>0</th>\n",
       "      <td>AM General</td>\n",
       "      <td>DJ Po Vehicle 2WD</td>\n",
       "      <td>1984</td>\n",
       "      <td>2.5</td>\n",
       "      <td>4.0</td>\n",
       "      <td>Automatic 3-spd</td>\n",
       "      <td>2-Wheel Drive</td>\n",
       "      <td>Special Purpose Vehicle 2WD</td>\n",
       "      <td>Regular</td>\n",
       "      <td>19.388824</td>\n",
       "      <td>18</td>\n",
       "      <td>17</td>\n",
       "      <td>17</td>\n",
       "      <td>522.764706</td>\n",
       "      <td>1950</td>\n",
       "    </tr>\n",
       "    <tr>\n",
       "      <th>1</th>\n",
       "      <td>AM General</td>\n",
       "      <td>FJ8c Post Office</td>\n",
       "      <td>1984</td>\n",
       "      <td>4.2</td>\n",
       "      <td>6.0</td>\n",
       "      <td>Automatic 3-spd</td>\n",
       "      <td>2-Wheel Drive</td>\n",
       "      <td>Special Purpose Vehicle 2WD</td>\n",
       "      <td>Regular</td>\n",
       "      <td>25.354615</td>\n",
       "      <td>13</td>\n",
       "      <td>13</td>\n",
       "      <td>13</td>\n",
       "      <td>683.615385</td>\n",
       "      <td>2550</td>\n",
       "    </tr>\n",
       "    <tr>\n",
       "      <th>2</th>\n",
       "      <td>AM General</td>\n",
       "      <td>Post Office DJ5 2WD</td>\n",
       "      <td>1985</td>\n",
       "      <td>2.5</td>\n",
       "      <td>4.0</td>\n",
       "      <td>Automatic 3-spd</td>\n",
       "      <td>Rear-Wheel Drive</td>\n",
       "      <td>Special Purpose Vehicle 2WD</td>\n",
       "      <td>Regular</td>\n",
       "      <td>20.600625</td>\n",
       "      <td>16</td>\n",
       "      <td>17</td>\n",
       "      <td>16</td>\n",
       "      <td>555.437500</td>\n",
       "      <td>2100</td>\n",
       "    </tr>\n",
       "    <tr>\n",
       "      <th>3</th>\n",
       "      <td>AM General</td>\n",
       "      <td>Post Office DJ8 2WD</td>\n",
       "      <td>1985</td>\n",
       "      <td>4.2</td>\n",
       "      <td>6.0</td>\n",
       "      <td>Automatic 3-spd</td>\n",
       "      <td>Rear-Wheel Drive</td>\n",
       "      <td>Special Purpose Vehicle 2WD</td>\n",
       "      <td>Regular</td>\n",
       "      <td>25.354615</td>\n",
       "      <td>13</td>\n",
       "      <td>13</td>\n",
       "      <td>13</td>\n",
       "      <td>683.615385</td>\n",
       "      <td>2550</td>\n",
       "    </tr>\n",
       "    <tr>\n",
       "      <th>4</th>\n",
       "      <td>ASC Incorporated</td>\n",
       "      <td>GNX</td>\n",
       "      <td>1987</td>\n",
       "      <td>3.8</td>\n",
       "      <td>6.0</td>\n",
       "      <td>Automatic 4-spd</td>\n",
       "      <td>Rear-Wheel Drive</td>\n",
       "      <td>Midsize Cars</td>\n",
       "      <td>Premium</td>\n",
       "      <td>20.600625</td>\n",
       "      <td>14</td>\n",
       "      <td>21</td>\n",
       "      <td>16</td>\n",
       "      <td>555.437500</td>\n",
       "      <td>2550</td>\n",
       "    </tr>\n",
       "    <tr>\n",
       "      <th>...</th>\n",
       "      <td>...</td>\n",
       "      <td>...</td>\n",
       "      <td>...</td>\n",
       "      <td>...</td>\n",
       "      <td>...</td>\n",
       "      <td>...</td>\n",
       "      <td>...</td>\n",
       "      <td>...</td>\n",
       "      <td>...</td>\n",
       "      <td>...</td>\n",
       "      <td>...</td>\n",
       "      <td>...</td>\n",
       "      <td>...</td>\n",
       "      <td>...</td>\n",
       "      <td>...</td>\n",
       "    </tr>\n",
       "    <tr>\n",
       "      <th>35947</th>\n",
       "      <td>smart</td>\n",
       "      <td>fortwo coupe</td>\n",
       "      <td>2013</td>\n",
       "      <td>1.0</td>\n",
       "      <td>3.0</td>\n",
       "      <td>Auto(AM5)</td>\n",
       "      <td>Rear-Wheel Drive</td>\n",
       "      <td>Two Seaters</td>\n",
       "      <td>Premium</td>\n",
       "      <td>9.155833</td>\n",
       "      <td>34</td>\n",
       "      <td>38</td>\n",
       "      <td>36</td>\n",
       "      <td>244.000000</td>\n",
       "      <td>1100</td>\n",
       "    </tr>\n",
       "    <tr>\n",
       "      <th>35948</th>\n",
       "      <td>smart</td>\n",
       "      <td>fortwo coupe</td>\n",
       "      <td>2014</td>\n",
       "      <td>1.0</td>\n",
       "      <td>3.0</td>\n",
       "      <td>Auto(AM5)</td>\n",
       "      <td>Rear-Wheel Drive</td>\n",
       "      <td>Two Seaters</td>\n",
       "      <td>Premium</td>\n",
       "      <td>9.155833</td>\n",
       "      <td>34</td>\n",
       "      <td>38</td>\n",
       "      <td>36</td>\n",
       "      <td>243.000000</td>\n",
       "      <td>1100</td>\n",
       "    </tr>\n",
       "    <tr>\n",
       "      <th>35949</th>\n",
       "      <td>smart</td>\n",
       "      <td>fortwo coupe</td>\n",
       "      <td>2015</td>\n",
       "      <td>1.0</td>\n",
       "      <td>3.0</td>\n",
       "      <td>Auto(AM5)</td>\n",
       "      <td>Rear-Wheel Drive</td>\n",
       "      <td>Two Seaters</td>\n",
       "      <td>Premium</td>\n",
       "      <td>9.155833</td>\n",
       "      <td>34</td>\n",
       "      <td>38</td>\n",
       "      <td>36</td>\n",
       "      <td>244.000000</td>\n",
       "      <td>1100</td>\n",
       "    </tr>\n",
       "    <tr>\n",
       "      <th>35950</th>\n",
       "      <td>smart</td>\n",
       "      <td>fortwo coupe</td>\n",
       "      <td>2016</td>\n",
       "      <td>0.9</td>\n",
       "      <td>3.0</td>\n",
       "      <td>Auto(AM6)</td>\n",
       "      <td>Rear-Wheel Drive</td>\n",
       "      <td>Two Seaters</td>\n",
       "      <td>Premium</td>\n",
       "      <td>9.155833</td>\n",
       "      <td>34</td>\n",
       "      <td>39</td>\n",
       "      <td>36</td>\n",
       "      <td>246.000000</td>\n",
       "      <td>1100</td>\n",
       "    </tr>\n",
       "    <tr>\n",
       "      <th>35951</th>\n",
       "      <td>smart</td>\n",
       "      <td>fortwo coupe</td>\n",
       "      <td>2016</td>\n",
       "      <td>0.9</td>\n",
       "      <td>3.0</td>\n",
       "      <td>Manual 5-spd</td>\n",
       "      <td>Rear-Wheel Drive</td>\n",
       "      <td>Two Seaters</td>\n",
       "      <td>Premium</td>\n",
       "      <td>9.417429</td>\n",
       "      <td>32</td>\n",
       "      <td>39</td>\n",
       "      <td>35</td>\n",
       "      <td>255.000000</td>\n",
       "      <td>1150</td>\n",
       "    </tr>\n",
       "  </tbody>\n",
       "</table>\n",
       "<p>35952 rows × 15 columns</p>\n",
       "</div>"
      ],
      "text/plain": [
       "                   Make                Model  Year  Engine Displacement  \\\n",
       "0            AM General    DJ Po Vehicle 2WD  1984                  2.5   \n",
       "1            AM General     FJ8c Post Office  1984                  4.2   \n",
       "2            AM General  Post Office DJ5 2WD  1985                  2.5   \n",
       "3            AM General  Post Office DJ8 2WD  1985                  4.2   \n",
       "4      ASC Incorporated                  GNX  1987                  3.8   \n",
       "...                 ...                  ...   ...                  ...   \n",
       "35947             smart         fortwo coupe  2013                  1.0   \n",
       "35948             smart         fortwo coupe  2014                  1.0   \n",
       "35949             smart         fortwo coupe  2015                  1.0   \n",
       "35950             smart         fortwo coupe  2016                  0.9   \n",
       "35951             smart         fortwo coupe  2016                  0.9   \n",
       "\n",
       "       Cylinders     Transmission        Drivetrain  \\\n",
       "0            4.0  Automatic 3-spd     2-Wheel Drive   \n",
       "1            6.0  Automatic 3-spd     2-Wheel Drive   \n",
       "2            4.0  Automatic 3-spd  Rear-Wheel Drive   \n",
       "3            6.0  Automatic 3-spd  Rear-Wheel Drive   \n",
       "4            6.0  Automatic 4-spd  Rear-Wheel Drive   \n",
       "...          ...              ...               ...   \n",
       "35947        3.0        Auto(AM5)  Rear-Wheel Drive   \n",
       "35948        3.0        Auto(AM5)  Rear-Wheel Drive   \n",
       "35949        3.0        Auto(AM5)  Rear-Wheel Drive   \n",
       "35950        3.0        Auto(AM6)  Rear-Wheel Drive   \n",
       "35951        3.0     Manual 5-spd  Rear-Wheel Drive   \n",
       "\n",
       "                     Vehicle Class Fuel Type  Fuel Barrels/Year  City MPG  \\\n",
       "0      Special Purpose Vehicle 2WD   Regular          19.388824        18   \n",
       "1      Special Purpose Vehicle 2WD   Regular          25.354615        13   \n",
       "2      Special Purpose Vehicle 2WD   Regular          20.600625        16   \n",
       "3      Special Purpose Vehicle 2WD   Regular          25.354615        13   \n",
       "4                     Midsize Cars   Premium          20.600625        14   \n",
       "...                            ...       ...                ...       ...   \n",
       "35947                  Two Seaters   Premium           9.155833        34   \n",
       "35948                  Two Seaters   Premium           9.155833        34   \n",
       "35949                  Two Seaters   Premium           9.155833        34   \n",
       "35950                  Two Seaters   Premium           9.155833        34   \n",
       "35951                  Two Seaters   Premium           9.417429        32   \n",
       "\n",
       "       Highway MPG  Combined MPG  CO2 Emission Grams/Mile  Fuel Cost/Year  \n",
       "0               17            17               522.764706            1950  \n",
       "1               13            13               683.615385            2550  \n",
       "2               17            16               555.437500            2100  \n",
       "3               13            13               683.615385            2550  \n",
       "4               21            16               555.437500            2550  \n",
       "...            ...           ...                      ...             ...  \n",
       "35947           38            36               244.000000            1100  \n",
       "35948           38            36               243.000000            1100  \n",
       "35949           38            36               244.000000            1100  \n",
       "35950           39            36               246.000000            1100  \n",
       "35951           39            35               255.000000            1150  \n",
       "\n",
       "[35952 rows x 15 columns]"
      ]
     },
     "execution_count": 3,
     "metadata": {},
     "output_type": "execute_result"
    }
   ],
   "source": [
    "data"
   ]
  },
  {
   "cell_type": "code",
   "execution_count": 4,
   "metadata": {},
   "outputs": [
    {
     "data": {
      "text/html": [
       "<div>\n",
       "<style scoped>\n",
       "    .dataframe tbody tr th:only-of-type {\n",
       "        vertical-align: middle;\n",
       "    }\n",
       "\n",
       "    .dataframe tbody tr th {\n",
       "        vertical-align: top;\n",
       "    }\n",
       "\n",
       "    .dataframe thead th {\n",
       "        text-align: right;\n",
       "    }\n",
       "</style>\n",
       "<table border=\"1\" class=\"dataframe\">\n",
       "  <thead>\n",
       "    <tr style=\"text-align: right;\">\n",
       "      <th></th>\n",
       "      <th>Year</th>\n",
       "      <th>Cylinders</th>\n",
       "      <th>Fuel Barrels/Year</th>\n",
       "      <th>Combined MPG</th>\n",
       "      <th>Fuel Cost/Year</th>\n",
       "      <th>CO2 Emission Grams/Mile</th>\n",
       "    </tr>\n",
       "  </thead>\n",
       "  <tbody>\n",
       "    <tr>\n",
       "      <th>Year</th>\n",
       "      <td>1.000000</td>\n",
       "      <td>0.082469</td>\n",
       "      <td>-0.221084</td>\n",
       "      <td>0.204751</td>\n",
       "      <td>-0.091913</td>\n",
       "      <td>-0.222300</td>\n",
       "    </tr>\n",
       "    <tr>\n",
       "      <th>Cylinders</th>\n",
       "      <td>0.082469</td>\n",
       "      <td>1.000000</td>\n",
       "      <td>0.739517</td>\n",
       "      <td>-0.698648</td>\n",
       "      <td>0.778153</td>\n",
       "      <td>0.752393</td>\n",
       "    </tr>\n",
       "    <tr>\n",
       "      <th>Fuel Barrels/Year</th>\n",
       "      <td>-0.221084</td>\n",
       "      <td>0.739517</td>\n",
       "      <td>1.000000</td>\n",
       "      <td>-0.909743</td>\n",
       "      <td>0.916208</td>\n",
       "      <td>0.986189</td>\n",
       "    </tr>\n",
       "    <tr>\n",
       "      <th>Combined MPG</th>\n",
       "      <td>0.204751</td>\n",
       "      <td>-0.698648</td>\n",
       "      <td>-0.909743</td>\n",
       "      <td>1.000000</td>\n",
       "      <td>-0.875185</td>\n",
       "      <td>-0.926229</td>\n",
       "    </tr>\n",
       "    <tr>\n",
       "      <th>Fuel Cost/Year</th>\n",
       "      <td>-0.091913</td>\n",
       "      <td>0.778153</td>\n",
       "      <td>0.916208</td>\n",
       "      <td>-0.875185</td>\n",
       "      <td>1.000000</td>\n",
       "      <td>0.930865</td>\n",
       "    </tr>\n",
       "    <tr>\n",
       "      <th>CO2 Emission Grams/Mile</th>\n",
       "      <td>-0.222300</td>\n",
       "      <td>0.752393</td>\n",
       "      <td>0.986189</td>\n",
       "      <td>-0.926229</td>\n",
       "      <td>0.930865</td>\n",
       "      <td>1.000000</td>\n",
       "    </tr>\n",
       "  </tbody>\n",
       "</table>\n",
       "</div>"
      ],
      "text/plain": [
       "                             Year  Cylinders  Fuel Barrels/Year  Combined MPG  \\\n",
       "Year                     1.000000   0.082469          -0.221084      0.204751   \n",
       "Cylinders                0.082469   1.000000           0.739517     -0.698648   \n",
       "Fuel Barrels/Year       -0.221084   0.739517           1.000000     -0.909743   \n",
       "Combined MPG             0.204751  -0.698648          -0.909743      1.000000   \n",
       "Fuel Cost/Year          -0.091913   0.778153           0.916208     -0.875185   \n",
       "CO2 Emission Grams/Mile -0.222300   0.752393           0.986189     -0.926229   \n",
       "\n",
       "                         Fuel Cost/Year  CO2 Emission Grams/Mile  \n",
       "Year                          -0.091913                -0.222300  \n",
       "Cylinders                      0.778153                 0.752393  \n",
       "Fuel Barrels/Year              0.916208                 0.986189  \n",
       "Combined MPG                  -0.875185                -0.926229  \n",
       "Fuel Cost/Year                 1.000000                 0.930865  \n",
       "CO2 Emission Grams/Mile        0.930865                 1.000000  "
      ]
     },
     "execution_count": 4,
     "metadata": {},
     "output_type": "execute_result"
    }
   ],
   "source": [
    "selected_variables = ['Year', 'Cylinders', 'Fuel Barrels/Year', 'Combined MPG', 'Fuel Cost/Year', 'CO2 Emission Grams/Mile']\n",
    "\n",
    "# a DataFrame with only the selected variables\n",
    "selected_data = data[selected_variables]\n",
    "\n",
    "# See the the corr\n",
    "correlations = selected_data.corr()\n",
    "\n",
    "correlations\n"
   ]
  },
  {
   "cell_type": "code",
   "execution_count": 5,
   "metadata": {},
   "outputs": [
    {
     "data": {
      "text/plain": [
       "'Combined MPG'"
      ]
     },
     "execution_count": 5,
     "metadata": {},
     "output_type": "execute_result"
    }
   ],
   "source": [
    "# the highest corr to CO2 Emission\n",
    "most_important_variable = correlations['CO2 Emission Grams/Mile'].idxmax()\n",
    "\n",
    "# the lowest corr to CO2 Emission\n",
    "least_important_variable = correlations['CO2 Emission Grams/Mile'].idxmin()\n",
    "\n",
    "most_important_variable\n"
   ]
  },
  {
   "cell_type": "code",
   "execution_count": 6,
   "metadata": {},
   "outputs": [
    {
     "data": {
      "text/plain": [
       "'Combined MPG'"
      ]
     },
     "execution_count": 6,
     "metadata": {},
     "output_type": "execute_result"
    }
   ],
   "source": [
    "least_important_variable"
   ]
  },
  {
   "cell_type": "markdown",
   "metadata": {},
   "source": [
    "Build a regression model for this data. What type of regression are you using? Add your responses as comments after your code."
   ]
  },
  {
   "cell_type": "code",
   "execution_count": 9,
   "metadata": {},
   "outputs": [
    {
     "data": {
      "text/plain": [
       "289.82774408137783"
      ]
     },
     "execution_count": 9,
     "metadata": {},
     "output_type": "execute_result"
    }
   ],
   "source": [
    "# Your response here. \n",
    "# Using multiple linear regression since there are multiple variables\n",
    "\n",
    "from sklearn.linear_model import LinearRegression\n",
    "from sklearn.model_selection import train_test_split\n",
    "from sklearn.metrics import mean_squared_error, r2_score\n",
    "\n",
    "\n",
    "X = selected_data[['Year', 'Cylinders', 'Fuel Barrels/Year', 'Combined MPG', 'Fuel Cost/Year']]\n",
    "y = selected_data['CO2 Emission Grams/Mile']\n",
    "\n",
    "# Split the data into training and testing sets (e.g., 80% train, 20% test)\n",
    "X_train, X_test, y_train, y_test = train_test_split(X, y, test_size=0.2, random_state=42)\n",
    "\n",
    "# a linear regression model\n",
    "model = LinearRegression()\n",
    "\n",
    "model.fit(X_train, y_train)\n",
    "\n",
    "# predictions on the test data\n",
    "y_pred = model.predict(X_test)\n",
    "\n",
    "# evaluate the model\n",
    "mse = mean_squared_error(y_test, y_pred)\n",
    "r2 = r2_score(y_test, y_pred)\n",
    "\n",
    "mse\n"
   ]
  },
  {
   "cell_type": "code",
   "execution_count": 10,
   "metadata": {},
   "outputs": [
    {
     "data": {
      "text/plain": [
       "0.9794542628636334"
      ]
     },
     "execution_count": 10,
     "metadata": {},
     "output_type": "execute_result"
    }
   ],
   "source": [
    "r2"
   ]
  },
  {
   "cell_type": "code",
   "execution_count": null,
   "metadata": {},
   "outputs": [],
   "source": [
    "# I splitted the data into training and testing sets\n",
    "# I created a multiple linear regressionmodel \n",
    "# Then I fit the model to the training data.\n",
    "# Then I made predictions on the test data and then calculated model performance metrics\n",
    "# I am predicting CO2 Emission Grams/Mile based on various vehicle characteristics"
   ]
  },
  {
   "cell_type": "markdown",
   "metadata": {},
   "source": [
    "Print your regression summary, and interpret the results. What are the most important varibles in your model and why? What can conclusions can you draw from your model and how confident in these conclusions are you? Add your responses as comments after your code."
   ]
  },
  {
   "cell_type": "code",
   "execution_count": 12,
   "metadata": {},
   "outputs": [
    {
     "name": "stdout",
     "output_type": "stream",
     "text": [
      "Coefficients:\n",
      "Year: -0.3155867545879126\n",
      "Cylinders: 1.7940263231035138\n",
      "Fuel Barrels/Year: 19.231027286739906\n",
      "Combined MPG: -2.933573199591574\n",
      "Fuel Cost/Year: 0.031971450640956744\n"
     ]
    }
   ],
   "source": [
    "# Your response here. \n",
    "# the coefficients for each feature\n",
    "coefficients = dict(zip(X.columns, model.coef_))\n",
    "print(\"Coefficients:\")\n",
    "for feature, coef in coefficients.items():\n",
    "    print(f\"{feature}: {coef}\")"
   ]
  },
  {
   "cell_type": "code",
   "execution_count": 13,
   "metadata": {},
   "outputs": [
    {
     "name": "stdout",
     "output_type": "stream",
     "text": [
      "Intercept: 755.6935073143679\n"
     ]
    }
   ],
   "source": [
    "intercept = model.intercept_\n",
    "print(f\"Intercept: {intercept}\")"
   ]
  },
  {
   "cell_type": "code",
   "execution_count": null,
   "metadata": {},
   "outputs": [],
   "source": [
    "# Year: This suggests that for every year increase in a vehicle's manufacturing year, the CO2 emissions tend to decrease by 0.316.. grams per mile\n",
    "# Cylinders: 1.794.. indicates that for each additional cylinder in a vehicle's engine, the CO2 emissions increase by 1.794.. grams per mile\n",
    "# Fuel Barrels/Year : 19.231.. suggests that for every additional fuel barrel consumed per year by a vehicle, the CO2 emissions tend to increase by 19.231.. grams per mile\n",
    "# Combined MPG: -2.9336 indicates that for every one-unit increase in combined miles per gallon (MPG) of a vehicle, the CO2 emissions tend to decrease by 2.934.. grams per mile\n",
    "# Fuel Cost/Year: 0.0319 suggests that for every one-dollar increase in annual fuel cost for a vehicle, the CO2 emissions tend to increase by approximately 0.032 grams per mile\n",
    "\n",
    "# The intercept is 755.69.. This means that when all other independent variables (Year, Cylinders, Fuel Barrels/Year, Combined MPG, and Fuel Cost/Year) are set to zero, the estimated CO2 Emission Grams/Mile for a vehicle is approximately 755.69 grams per mile."
   ]
  },
  {
   "cell_type": "markdown",
   "metadata": {},
   "source": [
    "## Challenge 2: Error Analysis"
   ]
  },
  {
   "cell_type": "markdown",
   "metadata": {},
   "source": [
    "I am suspicious about the last few parties I have thrown: it seems that the more people I invite the more people are unable to attend. To know if my hunch is supported by data, I have decided to do an analysis. I have collected my data in the table below, where X is the number of people I invited, and Y is the number of people who attended. \n",
    "\n",
    "|  X |  Y |\n",
    "|----|----|\n",
    "| 1  |  1 |\n",
    "| 3  |  2 |\n",
    "| 4  |  4 |\n",
    "| 6  |  4 |\n",
    "| 8  |  5 |\n",
    "| 9  |  7 |\n",
    "| 11 |  8 |\n",
    "| 14 |  13 |"
   ]
  },
  {
   "cell_type": "markdown",
   "metadata": {},
   "source": [
    "We want to know if the relationship modeled by the two random variables is linear or not, and therefore if it is appropriate to model it with a linear regression. \n",
    "First, build a dataframe with the data. "
   ]
  },
  {
   "cell_type": "code",
   "execution_count": 14,
   "metadata": {},
   "outputs": [
    {
     "name": "stdout",
     "output_type": "stream",
     "text": [
      "    X   Y\n",
      "0   1   1\n",
      "1   3   2\n",
      "2   4   4\n",
      "3   6   4\n",
      "4   8   5\n",
      "5   9   7\n",
      "6  11   8\n",
      "7  14  13\n"
     ]
    }
   ],
   "source": [
    "# Your code here.\n",
    "import pandas as pd\n",
    "\n",
    "data = {'X': [1, 3, 4, 6, 8, 9, 11, 14],'Y': [1, 2, 4, 4, 5, 7, 8, 13]}\n",
    "\n",
    "df = pd.DataFrame(data)\n",
    "\n",
    "print(df)\n"
   ]
  },
  {
   "cell_type": "markdown",
   "metadata": {},
   "source": [
    "Draw a dispersion diagram (scatter plot) for the data, and fit a regression line."
   ]
  },
  {
   "cell_type": "code",
   "execution_count": 15,
   "metadata": {},
   "outputs": [],
   "source": [
    "# Your code here.\n",
    "\n",
    "import matplotlib.pyplot as plt\n",
    "import numpy as np\n",
    "from sklearn.linear_model import LinearRegression\n"
   ]
  },
  {
   "cell_type": "code",
   "execution_count": 18,
   "metadata": {},
   "outputs": [
    {
     "data": {
      "image/png": "[encoded data removed]",
      "text/plain": [
       "<Figure size 800x600 with 1 Axes>"
      ]
     },
     "metadata": {},
     "output_type": "display_data"
    }
   ],
   "source": [
    "\n",
    "X = df['X']\n",
    "Y = df['Y']\n",
    "\n",
    "# a scatter plot\n",
    "plt.figure(figsize=(8, 6))\n",
    "plt.scatter(X, Y, label='Data points', color='blue')\n",
    "\n",
    "# a linear regression model\n",
    "reg = LinearRegression().fit(X.values.reshape(-1, 1), Y)\n",
    "\n",
    "# Predict Y values based on the regression model\n",
    "Y_pred = reg.predict(X.values.reshape(-1, 1))\n",
    "\n",
    "# Plot the regression line\n",
    "plt.plot(X, Y_pred, label='Regression line', color='red')\n",
    "\n",
    "plt.xlabel('Number of People Invited (X)')\n",
    "plt.ylabel('Number of People Attended (Y)')\n",
    "plt.title('Scatter Plot and Linear Regression Line')\n",
    "plt.legend()\n",
    "plt.grid(True)\n",
    "plt.show()\n"
   ]
  },
  {
   "cell_type": "markdown",
   "metadata": {},
   "source": [
    "What do you see? What does this plot tell you about the likely relationship between the variables? Print the results from your regression."
   ]
  },
  {
   "cell_type": "code",
   "execution_count": 19,
   "metadata": {},
   "outputs": [],
   "source": [
    "# Your response here. \n",
    "\n",
    "# The scatter plot suggests a as more people are invited, more people tend to attend\n",
    "# The regression line also supports this positive relationship\n",
    "# However, the data points are not totally aligned with the regression line"
   ]
  },
  {
   "cell_type": "markdown",
   "metadata": {},
   "source": [
    "Do you see any problematic points, or outliers, in your data? Remove these points and recalculate your regression. Print the new dispersion diagram with your new model and the results of your model. "
   ]
  },
  {
   "cell_type": "code",
   "execution_count": 20,
   "metadata": {},
   "outputs": [],
   "source": [
    "# Your response here. \n",
    "# I have asked around abt this problem, but still dont understand totally. "
   ]
  },
  {
   "cell_type": "code",
   "execution_count": 22,
   "metadata": {},
   "outputs": [],
   "source": [
    "# I remove data points that fall outside a certain range defined by the mean and standard deviation\n",
    "\n",
    "x_mean = df['X'].mean()\n",
    "x_std = df['X'].std()\n",
    "y_mean = df['Y'].mean()\n",
    "y_std = df['Y'].std()"
   ]
  },
  {
   "cell_type": "code",
   "execution_count": 23,
   "metadata": {},
   "outputs": [],
   "source": [
    "# The I define a threshold as a multiple of the standard deviation\n",
    "# I chose 2 because a threshold of 2 standard deviations would capture the central 95% of the data\n",
    "# but I dont know if it is always like that? how do we get the right threshold?\n",
    "threshold = 2"
   ]
  },
  {
   "cell_type": "code",
   "execution_count": 24,
   "metadata": {},
   "outputs": [
    {
     "data": {
      "image/png": "[encoded data removed]",
      "text/plain": [
       "<Figure size 800x600 with 1 Axes>"
      ]
     },
     "metadata": {},
     "output_type": "display_data"
    }
   ],
   "source": [
    "# a new df with outliers removed\n",
    "df_no_outliers = df[(df['X'] >= x_mean - threshold * x_std) & (df['X'] <= x_mean + threshold * x_std) & (df['Y'] >= y_mean - threshold * y_std) & (df['Y'] <= y_mean + threshold * y_std)]\n",
    "\n",
    "# Extract X and Y \n",
    "X = df_no_outliers['X']\n",
    "Y = df_no_outliers['Y']\n",
    "\n",
    "plt.figure(figsize=(8, 6))\n",
    "plt.scatter(X, Y, label='Data points', color='blue')\n",
    "\n",
    "# Fit a linear regression model to the cleaned data\n",
    "reg = LinearRegression().fit(X.values.reshape(-1, 1), Y)\n",
    "\n",
    "# Predict Y based on the new regression model\n",
    "Y_pred = reg.predict(X.values.reshape(-1, 1))\n",
    "\n",
    "\n",
    "plt.plot(X, Y_pred, label='Regression line', color='red')\n",
    "\n",
    "plt.xlabel('Number of People Invited (X)')\n",
    "plt.ylabel('Number of People Attended (Y)')\n",
    "plt.title('Scatter Plot with Outliers Removed and New Regression Line')\n",
    "plt.legend()\n",
    "plt.grid(True)\n",
    "plt.show()"
   ]
  },
  {
   "cell_type": "markdown",
   "metadata": {},
   "source": [
    "What changed? Based on the results of the two models and your graphs, what can you say about the form of the data with the problematic point and without it?"
   ]
  },
  {
   "cell_type": "code",
   "execution_count": null,
   "metadata": {},
   "outputs": [],
   "source": [
    "# Your response here. \n",
    "# I dont see any difference"
   ]
  }
 ],
 "metadata": {
  "kernelspec": {
   "display_name": "Python 3",
   "language": "python",
   "name": "python3"
  },
  "language_info": {
   "codemirror_mode": {
    "name": "ipython",
    "version": 3
   },
   "file_extension": ".py",
   "mimetype": "text/x-python",
   "name": "python",
   "nbconvert_exporter": "python",
   "pygments_lexer": "ipython3",
   "version": "3.11.4"
  }
 },
 "nbformat": 4,
 "nbformat_minor": 2
}
